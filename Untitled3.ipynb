{
  "cells": [
    {
      "cell_type": "markdown",
      "metadata": {
        "id": "view-in-github",
        "colab_type": "text"
      },
      "source": [
        "<a href=\"https://colab.research.google.com/github/madhu143binnu/python_training/blob/main/Untitled3.ipynb\" target=\"_parent\"><img src=\"https://colab.research.google.com/assets/colab-badge.svg\" alt=\"Open In Colab\"/></a>"
      ]
    },
    {
      "cell_type": "code",
      "execution_count": null,
      "metadata": {
        "colab": {
          "base_uri": "https://localhost:8080/"
        },
        "id": "UyV2aVBxFIxT",
        "outputId": "837e52ac-3b2a-482d-80ba-432182660705"
      },
      "outputs": [
        {
          "name": "stdout",
          "output_type": "stream",
          "text": [
            "20\n"
          ]
        }
      ],
      "source": [
        "List =[8, 2, 3, 0, 7]\n",
        "sum = sum (List)\n",
        "print (sum)"
      ]
    },
    {
      "cell_type": "code",
      "execution_count": null,
      "metadata": {
        "colab": {
          "base_uri": "https://localhost:8080/"
        },
        "id": "NvcgUlcIF4k6",
        "outputId": "f1cb9fd1-f7b7-4eb7-c266-10895608cd7b"
      },
      "outputs": [
        {
          "name": "stdout",
          "output_type": "stream",
          "text": [
            "1234abcd\n"
          ]
        }
      ],
      "source": [
        "str = \"dcba4321\"\n",
        "print(str[::-1])\n"
      ]
    },
    {
      "cell_type": "code",
      "execution_count": null,
      "metadata": {
        "colab": {
          "base_uri": "https://localhost:8080/"
        },
        "id": "ASAb5JedGAkV",
        "outputId": "2effd9f4-cc5a-4588-a63b-013c22bcb94e"
      },
      "outputs": [
        {
          "name": "stdout",
          "output_type": "stream",
          "text": [
            "dcba4321\n"
          ]
        }
      ],
      "source": [
        "str = \"1234abcd\"\n",
        "print(str[::-1])\n"
      ]
    },
    {
      "cell_type": "code",
      "execution_count": 1,
      "metadata": {
        "colab": {
          "base_uri": "https://localhost:8080/"
        },
        "id": "vHbXIZyZGJt9",
        "outputId": "5e725615-aca7-4e13-9ad5-11029d4e0b46"
      },
      "outputs": [
        {
          "name": "stdout",
          "output_type": "stream",
          "text": [
            "enter the string:-Hellow\n"
          ]
        }
      ],
      "source": [
        "x = input(\"enter the string:-\")\n",
        "def char(x):\n",
        "  u=0\n",
        "  l=0\n",
        "  for i in x:\n",
        "    if i>= 'a' and i<= 'z':\n",
        "      l+=1\n",
        "    if i>= 'A' and i<= 'Z':\n",
        "      u+=1\n",
        "      print (\"Lowercase letter in the string\",l)\n",
        "      print (\"Uppercase letter in the string\",u)\n",
        "      char(x)\n",
        "      print (x)\n"
      ]
    },
    {
      "cell_type": "code",
      "execution_count": 2,
      "metadata": {
        "id": "QwJmH06SI4qW"
      },
      "outputs": [],
      "source": [
        "def string_test(s):\n",
        " d={\"Upper_case\":0, \"Lower_case\":0}\n",
        " for c in s:\n",
        "  if c.isupper():\n",
        "     d[\"Upper_case\"]+=1\n",
        "  elif c.islower():\n",
        "    d[\"Lower_case\"]+=1\n",
        "  else:\n",
        "    pass\n",
        "  print (\"Original string : \", s)\n",
        "  print (\"no. of Upper case characters : \", d[\"Upper_case\"])\n",
        "  print (\"no. of Lower case characters : \", d[\"Lower_case\"])\n",
        "  string_test ('The quick brown Fox')\n"
      ]
    },
    {
      "cell_type": "code",
      "source": [
        "netamount=100\n",
        "while True:\n",
        "  s=input()\n",
        "  if not s:\n",
        "    break\n",
        "    values =s.split(\"\")\n",
        "    operation = values[0]\n",
        "    amount = int(values[1])\n",
        "    if operation==\"D\":\n",
        "      netamount+=amount\n",
        "  elif operation==\"W\":\n",
        "      netamount-=amount\n",
        "  else:\n",
        "    pass\n",
        "    print(netamount)\n"
      ],
      "metadata": {
        "colab": {
          "base_uri": "https://localhost:8080/",
          "height": 263
        },
        "id": "Q_CDOXbWZsCl",
        "outputId": "2de970c0-8262-4b0a-dd68-566909323368"
      },
      "execution_count": null,
      "outputs": [
        {
          "name": "stdout",
          "output_type": "stream",
          "text": [
            "100\n"
          ]
        },
        {
          "output_type": "error",
          "ename": "NameError",
          "evalue": "ignored",
          "traceback": [
            "\u001b[0;31m---------------------------------------------------------------------------\u001b[0m",
            "\u001b[0;31mNameError\u001b[0m                                 Traceback (most recent call last)",
            "\u001b[0;32m<ipython-input-35-d012e6f741c1>\u001b[0m in \u001b[0;36m<cell line: 2>\u001b[0;34m()\u001b[0m\n\u001b[1;32m      9\u001b[0m     \u001b[0;32mif\u001b[0m \u001b[0moperation\u001b[0m\u001b[0;34m==\u001b[0m\u001b[0;34m\"D\"\u001b[0m\u001b[0;34m:\u001b[0m\u001b[0;34m\u001b[0m\u001b[0;34m\u001b[0m\u001b[0m\n\u001b[1;32m     10\u001b[0m       \u001b[0mnetamount\u001b[0m\u001b[0;34m+=\u001b[0m\u001b[0mamount\u001b[0m\u001b[0;34m\u001b[0m\u001b[0;34m\u001b[0m\u001b[0m\n\u001b[0;32m---> 11\u001b[0;31m   \u001b[0;32melif\u001b[0m \u001b[0moperation\u001b[0m\u001b[0;34m==\u001b[0m\u001b[0;34m\"W\"\u001b[0m\u001b[0;34m:\u001b[0m\u001b[0;34m\u001b[0m\u001b[0;34m\u001b[0m\u001b[0m\n\u001b[0m\u001b[1;32m     12\u001b[0m       \u001b[0mnetamount\u001b[0m\u001b[0;34m-=\u001b[0m\u001b[0mamount\u001b[0m\u001b[0;34m\u001b[0m\u001b[0;34m\u001b[0m\u001b[0m\n\u001b[1;32m     13\u001b[0m   \u001b[0;32melse\u001b[0m\u001b[0;34m:\u001b[0m\u001b[0;34m\u001b[0m\u001b[0;34m\u001b[0m\u001b[0m\n",
            "\u001b[0;31mNameError\u001b[0m: name 'operation' is not defined"
          ]
        }
      ]
    },
    {
      "cell_type": "code",
      "source": [
        "total =0\n",
        "while True:\n",
        "  d_w_trans = input ()\n",
        "    if d_w_trans == \"\":\n",
        "      break\n",
        "             else:\n",
        "                   d_w_trans = d_w_trans.split(\"\")\n",
        "if d_w_trans[0] == \"D\":\n",
        "      total = total + int(d_w_trans[1])\n",
        "elif d_w_trans[0] == \"W\":\n",
        "    total = total - int(d_w_trans[1])\n",
        "print(total)"
      ],
      "metadata": {
        "colab": {
          "base_uri": "https://localhost:8080/",
          "height": 141
        },
        "id": "2EFIeHNGdVtS",
        "outputId": "3cf61336-010c-4994-956d-d4887fff91a0"
      },
      "execution_count": null,
      "outputs": [
        {
          "output_type": "error",
          "ename": "IndentationError",
          "evalue": "ignored",
          "traceback": [
            "\u001b[0;36m  File \u001b[0;32m\"<ipython-input-41-c9e21fcb47a0>\"\u001b[0;36m, line \u001b[0;32m4\u001b[0m\n\u001b[0;31m    if d_w_trans == \"\":\u001b[0m\n\u001b[0m    ^\u001b[0m\n\u001b[0;31mIndentationError\u001b[0m\u001b[0;31m:\u001b[0m unexpected indent\n"
          ]
        }
      ]
    },
    {
      "cell_type": "code",
      "source": [
        "calls = int(input(\"Enter number of calls:\"))\n",
        "if calls <= 100:\n",
        "  bill = 200\n",
        "elif calls > 100 and calls <= 150:\n",
        "  calls = calls -100\n",
        "  bill = 200 + (0.60 * calls )\n",
        "elif calls > 150 and calls <= 200:\n",
        "  calls = calls -150\n",
        "  bill = 200 + ( 0.60 * 50 ) + ( 0.50 * calls )\n",
        "else:\n",
        "  calls = calls -200\n",
        "  bills = 200 + (0.60 * 50 ) + (0.50 * 50 ) + (0.40 * calls)\n",
        "print (\"Total bill amount is \" ,bill)\n"
      ],
      "metadata": {
        "colab": {
          "base_uri": "https://localhost:8080/"
        },
        "id": "cpwk9a1PhE__",
        "outputId": "1c436d27-3374-4338-e9ec-10f5ee997d76"
      },
      "execution_count": null,
      "outputs": [
        {
          "output_type": "stream",
          "name": "stdout",
          "text": [
            "Enter number of calls:350\n",
            "Total bill amount is  200\n"
          ]
        }
      ]
    },
    {
      "cell_type": "code",
      "source": [
        "class Point:\n",
        "\n",
        "        def __init__(self):\n",
        "            self.x = x\n",
        "            self.y = y\n",
        "            self.z = z\n",
        "\n",
        "        def sqSum(self):\n",
        "            pass\n"
      ],
      "metadata": {
        "id": "HXd7d6R9kg07"
      },
      "execution_count": null,
      "outputs": []
    },
    {
      "cell_type": "code",
      "source": [
        "obj =(10, 94)\n",
        "obj.add()\n",
        "obj.subtract()\n",
        "obj.multiply()\n",
        "obj.divide()\n"
      ],
      "metadata": {
        "colab": {
          "base_uri": "https://localhost:8080/",
          "height": 245
        },
        "id": "PqXWPXdklcD7",
        "outputId": "b586ded0-d29c-4afd-d6a1-6a8aa69b6a2a"
      },
      "execution_count": null,
      "outputs": [
        {
          "output_type": "error",
          "ename": "TypeError",
          "evalue": "ignored",
          "traceback": [
            "\u001b[0;31m---------------------------------------------------------------------------\u001b[0m",
            "\u001b[0;31mTypeError\u001b[0m                                 Traceback (most recent call last)",
            "\u001b[0;32m<ipython-input-51-f68ff745419e>\u001b[0m in \u001b[0;36m<cell line: 1>\u001b[0;34m()\u001b[0m\n\u001b[0;32m----> 1\u001b[0;31m \u001b[0mobj\u001b[0m \u001b[0;34m=\u001b[0m\u001b[0meval\u001b[0m\u001b[0;34m(\u001b[0m\u001b[0;34m(\u001b[0m\u001b[0;36m10\u001b[0m\u001b[0;34m,\u001b[0m \u001b[0;36m94\u001b[0m\u001b[0;34m)\u001b[0m\u001b[0;34m)\u001b[0m\u001b[0;34m\u001b[0m\u001b[0;34m\u001b[0m\u001b[0m\n\u001b[0m\u001b[1;32m      2\u001b[0m \u001b[0mobj\u001b[0m\u001b[0;34m.\u001b[0m\u001b[0madd\u001b[0m\u001b[0;34m(\u001b[0m\u001b[0;34m)\u001b[0m\u001b[0;34m\u001b[0m\u001b[0;34m\u001b[0m\u001b[0m\n\u001b[1;32m      3\u001b[0m \u001b[0mobj\u001b[0m\u001b[0;34m.\u001b[0m\u001b[0msubtract\u001b[0m\u001b[0;34m(\u001b[0m\u001b[0;34m)\u001b[0m\u001b[0;34m\u001b[0m\u001b[0;34m\u001b[0m\u001b[0m\n\u001b[1;32m      4\u001b[0m \u001b[0mobj\u001b[0m\u001b[0;34m.\u001b[0m\u001b[0mmultiply\u001b[0m\u001b[0;34m(\u001b[0m\u001b[0;34m)\u001b[0m\u001b[0;34m\u001b[0m\u001b[0;34m\u001b[0m\u001b[0m\n\u001b[1;32m      5\u001b[0m \u001b[0mobj\u001b[0m\u001b[0;34m.\u001b[0m\u001b[0mdivide\u001b[0m\u001b[0;34m(\u001b[0m\u001b[0;34m)\u001b[0m\u001b[0;34m\u001b[0m\u001b[0;34m\u001b[0m\u001b[0m\n",
            "\u001b[0;31mTypeError\u001b[0m: eval() arg 1 must be a string, bytes or code object"
          ]
        }
      ]
    }
  ],
  "metadata": {
    "colab": {
      "provenance": [],
      "authorship_tag": "ABX9TyPAN5JSxQcnB0vRiOVjl2Kb",
      "include_colab_link": true
    },
    "kernelspec": {
      "display_name": "Python 3",
      "name": "python3"
    },
    "language_info": {
      "name": "python"
    }
  },
  "nbformat": 4,
  "nbformat_minor": 0
}